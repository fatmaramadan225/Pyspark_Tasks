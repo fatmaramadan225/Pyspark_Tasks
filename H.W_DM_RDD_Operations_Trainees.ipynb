{
 "cells": [
  {
   "cell_type": "markdown",
   "id": "2568221b",
   "metadata": {},
   "source": [
    "### Import the required libraries then Create SparkContext"
   ]
  },
  {
   "cell_type": "code",
   "execution_count": 2,
   "id": "65e6978c",
   "metadata": {},
   "outputs": [],
   "source": [
    "import findspark"
   ]
  },
  {
   "cell_type": "code",
   "execution_count": 3,
   "id": "6dd7951b-e702-467f-b04a-1f146fd13468",
   "metadata": {},
   "outputs": [],
   "source": [
    "from pyspark.sql import SparkSession"
   ]
  },
  {
   "cell_type": "code",
   "execution_count": 4,
   "id": "7d71fcf7-903f-4e18-ae6b-ce05bc40e850",
   "metadata": {},
   "outputs": [
    {
     "name": "stderr",
     "output_type": "stream",
     "text": [
      "24/08/21 16:16:08 WARN Utils: Your hostname, DESKTOP-3PA0MV5 resolves to a loopback address: 127.0.1.1, but we couldn't find any external IP address!\n",
      "24/08/21 16:16:08 WARN Utils: Set SPARK_LOCAL_IP if you need to bind to another address\n",
      "Setting default log level to \"WARN\".\n",
      "To adjust logging level use sc.setLogLevel(newLevel). For SparkR, use setLogLevel(newLevel).\n",
      "24/08/21 16:16:10 WARN NativeCodeLoader: Unable to load native-hadoop library for your platform... using builtin-java classes where applicable\n"
     ]
    }
   ],
   "source": [
    "spark = SparkSession.builder.getOrCreate()"
   ]
  },
  {
   "cell_type": "code",
   "execution_count": 5,
   "id": "54c117b4-7b74-4c4c-ba1c-7eb96126ef51",
   "metadata": {},
   "outputs": [],
   "source": [
    "sc = spark.sparkContext"
   ]
  },
  {
   "cell_type": "markdown",
   "id": "e9a7d9c6",
   "metadata": {},
   "source": [
    "### Create and display an RDD from the following list"
   ]
  },
  {
   "cell_type": "code",
   "execution_count": 6,
   "id": "409084ef",
   "metadata": {},
   "outputs": [],
   "source": [
    "list = [('JK', 22), ('V', 24), ('Jimin',24), ('RM', 25), ('J-Hope', 25), ('Suga', 26), ('Jin', 27)]"
   ]
  },
  {
   "cell_type": "code",
   "execution_count": 7,
   "id": "d5ba0725",
   "metadata": {},
   "outputs": [],
   "source": [
    "rdd0= sc.parallelize(list)"
   ]
  },
  {
   "cell_type": "code",
   "execution_count": 8,
   "id": "436dc319-b045-4912-9f67-c23a2909f12e",
   "metadata": {},
   "outputs": [
    {
     "data": {
      "text/plain": [
       "ParallelCollectionRDD[0] at readRDDFromFile at PythonRDD.scala:289"
      ]
     },
     "execution_count": 8,
     "metadata": {},
     "output_type": "execute_result"
    }
   ],
   "source": [
    "rdd0"
   ]
  },
  {
   "cell_type": "code",
   "execution_count": 11,
   "id": "89fcc22c-29a8-490d-8235-3b82f97d32ea",
   "metadata": {},
   "outputs": [
    {
     "name": "stderr",
     "output_type": "stream",
     "text": [
      "                                                                                \r"
     ]
    },
    {
     "data": {
      "text/plain": [
       "[('JK', 22),\n",
       " ('V', 24),\n",
       " ('Jimin', 24),\n",
       " ('RM', 25),\n",
       " ('J-Hope', 25),\n",
       " ('Suga', 26),\n",
       " ('Jin', 27)]"
      ]
     },
     "execution_count": 11,
     "metadata": {},
     "output_type": "execute_result"
    }
   ],
   "source": [
    "rdd0.collect()"
   ]
  },
  {
   "cell_type": "markdown",
   "id": "823af0d6",
   "metadata": {},
   "source": [
    "### Create a sample1.txt file to contain the text shown below."
   ]
  },
  {
   "cell_type": "code",
   "execution_count": 65,
   "id": "4f40b937-346f-4aa0-9024-c1c4739c13de",
   "metadata": {},
   "outputs": [],
   "source": [
    "text ='''Utilitatis causa amicitia est quaesita.\n",
    "Lorem ipsum dolor sit amet, consectetur adipiscing elit. \n",
    "Collatio igitur ista tenihil iuvat. \n",
    "Honesta oratio, Socratica, Platonis etiam. \n",
    "Primum in nostranepotestate est, quid meminerimus? \n",
    "Duo Reges: constructio interrete.\n",
    "Quid, sietiam iucunda memoria est praeteritorum malorum? \n",
    "Si quidem, inquit, tollerem,'''"
   ]
  },
  {
   "cell_type": "code",
   "execution_count": 66,
   "id": "b45ba607-e3a1-4745-ad5a-c5361cc927be",
   "metadata": {},
   "outputs": [],
   "source": [
    "rdd1=sc.parallelize(text.split('\\n'))"
   ]
  },
  {
   "cell_type": "code",
   "execution_count": 67,
   "id": "176542d3-8afc-4ad2-b920-8a94aafc6dbf",
   "metadata": {},
   "outputs": [
    {
     "data": {
      "text/plain": [
       "ParallelCollectionRDD[69] at readRDDFromFile at PythonRDD.scala:289"
      ]
     },
     "execution_count": 67,
     "metadata": {},
     "output_type": "execute_result"
    }
   ],
   "source": [
    "rdd1"
   ]
  },
  {
   "cell_type": "code",
   "execution_count": 68,
   "id": "cd1dfd40-bacf-462c-a447-4ae334457e2d",
   "metadata": {},
   "outputs": [
    {
     "data": {
      "text/plain": [
       "['Utilitatis causa amicitia est quaesita.',\n",
       " 'Lorem ipsum dolor sit amet, consectetur adipiscing elit. ',\n",
       " 'Collatio igitur ista tenihil iuvat. ',\n",
       " 'Honesta oratio, Socratica, Platonis etiam. ',\n",
       " 'Primum in nostranepotestate est, quid meminerimus? ',\n",
       " 'Duo Reges: constructio interrete.',\n",
       " 'Quid, sietiam iucunda memoria est praeteritorum malorum? ',\n",
       " 'Si quidem, inquit, tollerem,']"
      ]
     },
     "execution_count": 68,
     "metadata": {},
     "output_type": "execute_result"
    }
   ],
   "source": [
    "rdd1.collect()"
   ]
  },
  {
   "cell_type": "code",
   "execution_count": 70,
   "id": "2fd1b30b-da2c-4409-995c-5cf131852d1f",
   "metadata": {},
   "outputs": [
    {
     "name": "stderr",
     "output_type": "stream",
     "text": [
      "                                                                                \r"
     ]
    }
   ],
   "source": [
    "rdd1.saveAsTextFile('sample1')"
   ]
  },
  {
   "cell_type": "markdown",
   "id": "49249054",
   "metadata": {},
   "source": [
    "### Read sample1.txt file into RDD and displaying the first 4 elements"
   ]
  },
  {
   "cell_type": "code",
   "execution_count": 72,
   "id": "6da7cc70-23bc-440e-aaba-79892b1dbc3d",
   "metadata": {},
   "outputs": [],
   "source": [
    "rdd2=sc.textFile('sample1')"
   ]
  },
  {
   "cell_type": "code",
   "execution_count": 73,
   "id": "e9054e0b-e7f6-4ebd-acf5-75efce70bc77",
   "metadata": {},
   "outputs": [
    {
     "data": {
      "text/plain": [
       "['Utilitatis causa amicitia est quaesita.',\n",
       " 'Lorem ipsum dolor sit amet, consectetur adipiscing elit. ',\n",
       " 'Collatio igitur ista tenihil iuvat. ',\n",
       " 'Honesta oratio, Socratica, Platonis etiam. ']"
      ]
     },
     "execution_count": 73,
     "metadata": {},
     "output_type": "execute_result"
    }
   ],
   "source": [
    "rdd2.take(4)"
   ]
  },
  {
   "cell_type": "markdown",
   "id": "f0194c12",
   "metadata": {},
   "source": [
    "### Count the total number of rows in RDD"
   ]
  },
  {
   "cell_type": "code",
   "execution_count": 74,
   "id": "6d0d3b71-5dd9-4759-95cb-cc60c57fc918",
   "metadata": {},
   "outputs": [
    {
     "data": {
      "text/plain": [
       "8"
      ]
     },
     "execution_count": 74,
     "metadata": {},
     "output_type": "execute_result"
    }
   ],
   "source": [
    "rdd2.count()"
   ]
  },
  {
   "cell_type": "markdown",
   "id": "e7c4dc87",
   "metadata": {},
   "source": [
    "### Create a function to convert the data into lower case and splitting it"
   ]
  },
  {
   "cell_type": "code",
   "execution_count": 105,
   "id": "e4320221-98e5-4570-92a4-a2aecf023fd9",
   "metadata": {},
   "outputs": [],
   "source": [
    "def split_func():\n",
    "    rdd3 = rdd1.map(lambda x:x.lower())\n",
    "    rdd4= rdd3.map(lambda x:x.split(' '))\n",
    "    return rdd4"
   ]
  },
  {
   "cell_type": "code",
   "execution_count": 108,
   "id": "dfd45907-d2a8-41ee-8e89-00b453a2359e",
   "metadata": {},
   "outputs": [],
   "source": [
    "data=split_func()"
   ]
  },
  {
   "cell_type": "code",
   "execution_count": 109,
   "id": "08c4f631-b870-4d60-ae28-8d1ef4865593",
   "metadata": {},
   "outputs": [
    {
     "data": {
      "text/plain": [
       "[['utilitatis', 'causa', 'amicitia', 'est', 'quaesita.'],\n",
       " ['lorem',\n",
       "  'ipsum',\n",
       "  'dolor',\n",
       "  'sit',\n",
       "  'amet,',\n",
       "  'consectetur',\n",
       "  'adipiscing',\n",
       "  'elit.',\n",
       "  ''],\n",
       " ['collatio', 'igitur', 'ista', 'tenihil', 'iuvat.', ''],\n",
       " ['honesta', 'oratio,', 'socratica,', 'platonis', 'etiam.', ''],\n",
       " ['primum', 'in', 'nostranepotestate', 'est,', 'quid', 'meminerimus?', ''],\n",
       " ['duo', 'reges:', 'constructio', 'interrete.'],\n",
       " ['quid,',\n",
       "  'sietiam',\n",
       "  'iucunda',\n",
       "  'memoria',\n",
       "  'est',\n",
       "  'praeteritorum',\n",
       "  'malorum?',\n",
       "  ''],\n",
       " ['si', 'quidem,', 'inquit,', 'tollerem,']]"
      ]
     },
     "execution_count": 109,
     "metadata": {},
     "output_type": "execute_result"
    }
   ],
   "source": [
    "data.collect()"
   ]
  },
  {
   "cell_type": "markdown",
   "id": "7437d37f",
   "metadata": {},
   "source": [
    "### Remove the stopwords from the previous text. i.e. Remove it."
   ]
  },
  {
   "cell_type": "code",
   "execution_count": 138,
   "id": "358d6cd7",
   "metadata": {},
   "outputs": [],
   "source": [
    "stopwords = ['a','all','the','as','is','am','an','and',\n",
    "             'be','been','from','had','I','I’d','why','with']\n",
    "# Hint: you may need use flatMap"
   ]
  },
  {
   "cell_type": "code",
   "execution_count": 160,
   "id": "ffecc2eb-8e42-46e6-ac11-bb4fedd90dcc",
   "metadata": {},
   "outputs": [],
   "source": [
    "rdd5 = rdd1.flatMap(lambda y:[x for x in y.split() if x not in stopwords])"
   ]
  },
  {
   "cell_type": "code",
   "execution_count": 161,
   "id": "b5f72a02-26fc-4099-a6a9-1bd4c3fdea5b",
   "metadata": {},
   "outputs": [
    {
     "data": {
      "text/plain": [
       "['Utilitatis',\n",
       " 'causa',\n",
       " 'amicitia',\n",
       " 'est',\n",
       " 'quaesita.',\n",
       " 'Lorem',\n",
       " 'ipsum',\n",
       " 'dolor',\n",
       " 'sit',\n",
       " 'amet,',\n",
       " 'consectetur',\n",
       " 'adipiscing',\n",
       " 'elit.',\n",
       " 'Collatio',\n",
       " 'igitur',\n",
       " 'ista',\n",
       " 'tenihil',\n",
       " 'iuvat.',\n",
       " 'Honesta',\n",
       " 'oratio,',\n",
       " 'Socratica,',\n",
       " 'Platonis',\n",
       " 'etiam.',\n",
       " 'Primum',\n",
       " 'in',\n",
       " 'nostranepotestate',\n",
       " 'est,',\n",
       " 'quid',\n",
       " 'meminerimus?',\n",
       " 'Duo',\n",
       " 'Reges:',\n",
       " 'constructio',\n",
       " 'interrete.',\n",
       " 'Quid,',\n",
       " 'sietiam',\n",
       " 'iucunda',\n",
       " 'memoria',\n",
       " 'est',\n",
       " 'praeteritorum',\n",
       " 'malorum?',\n",
       " 'Si',\n",
       " 'quidem,',\n",
       " 'inquit,',\n",
       " 'tollerem,']"
      ]
     },
     "execution_count": 161,
     "metadata": {},
     "output_type": "execute_result"
    }
   ],
   "source": [
    "rdd5.collect()"
   ]
  },
  {
   "cell_type": "markdown",
   "id": "fb9f6058",
   "metadata": {},
   "source": [
    "### Find the words starting with ‘c’"
   ]
  },
  {
   "cell_type": "code",
   "execution_count": 162,
   "id": "c8824117-9db0-4b02-a2e8-ab007cbd5a54",
   "metadata": {},
   "outputs": [],
   "source": [
    "rdd6=rdd5.map(lambda x:x.lower())"
   ]
  },
  {
   "cell_type": "code",
   "execution_count": 163,
   "id": "04073f3b-9fa0-4373-bdde-c883853ae24f",
   "metadata": {},
   "outputs": [],
   "source": [
    "rdd7=rdd6.filter(lambda  w: w.startswith('c'))"
   ]
  },
  {
   "cell_type": "code",
   "execution_count": 165,
   "id": "614ad065-5267-4b50-90a0-716d379a7d7a",
   "metadata": {},
   "outputs": [
    {
     "data": {
      "text/plain": [
       "['causa', 'consectetur', 'collatio', 'constructio']"
      ]
     },
     "execution_count": 165,
     "metadata": {},
     "output_type": "execute_result"
    }
   ],
   "source": [
    "rdd7.collect()"
   ]
  },
  {
   "cell_type": "markdown",
   "id": "eba39e2e",
   "metadata": {},
   "source": [
    "### Reduce the data by key and sum it (use the data from the following list)"
   ]
  },
  {
   "cell_type": "code",
   "execution_count": 171,
   "id": "f26dea46",
   "metadata": {},
   "outputs": [],
   "source": [
    "list = [('JK', 22), ('V', 24), ('Jimin',24), ('RM', 25)\n",
    "        , ('J-Hope', 25), ('Suga', 26), ('Jin', 27)\n",
    "       , ('J-Hope', 12), ('Suga', 25), ('Jin', 34)\n",
    "       , ('JK', 32), ('V', 44), ('Jimin',14), ('RM', 35)]\n",
    "# Hint: use reduceByKey"
   ]
  },
  {
   "cell_type": "code",
   "execution_count": 172,
   "id": "d8b27f25-106d-4243-b6fb-a72f97afb9bf",
   "metadata": {},
   "outputs": [],
   "source": [
    "rdd8 = sc.parallelize(list)"
   ]
  },
  {
   "cell_type": "code",
   "execution_count": 177,
   "id": "d82b376f-e7ec-4506-8dde-3b7a3a650dd5",
   "metadata": {},
   "outputs": [],
   "source": [
    "rdd9 = rdd8.reduceByKey(lambda a,b:a+b)"
   ]
  },
  {
   "cell_type": "code",
   "execution_count": 178,
   "id": "d88b1289-7170-4b9c-a3fb-85ca97850610",
   "metadata": {},
   "outputs": [
    {
     "name": "stderr",
     "output_type": "stream",
     "text": [
      "                                                                                \r"
     ]
    },
    {
     "data": {
      "text/plain": [
       "[('JK', 54),\n",
       " ('J-Hope', 37),\n",
       " ('Suga', 51),\n",
       " ('Jin', 61),\n",
       " ('V', 68),\n",
       " ('Jimin', 38),\n",
       " ('RM', 60)]"
      ]
     },
     "execution_count": 178,
     "metadata": {},
     "output_type": "execute_result"
    }
   ],
   "source": [
    "rdd9.collect()"
   ]
  },
  {
   "cell_type": "markdown",
   "id": "a4587230",
   "metadata": {},
   "source": [
    "### Creat some key value pairs RDDs"
   ]
  },
  {
   "cell_type": "code",
   "execution_count": 179,
   "id": "cfb446ee",
   "metadata": {},
   "outputs": [],
   "source": [
    "rdd1 = sc.parallelize([('a',2),('b',3)])\n",
    "rdd2 = sc.parallelize([('a',9),('b',7),('c',10)])"
   ]
  },
  {
   "cell_type": "code",
   "execution_count": 180,
   "id": "fd83078f-5d7b-4431-9d7a-917c9153f1a7",
   "metadata": {},
   "outputs": [
    {
     "data": {
      "text/plain": [
       "[('a', 2), ('b', 3)]"
      ]
     },
     "execution_count": 180,
     "metadata": {},
     "output_type": "execute_result"
    }
   ],
   "source": [
    "rdd1.collect()"
   ]
  },
  {
   "cell_type": "code",
   "execution_count": 181,
   "id": "d16f7ae9",
   "metadata": {},
   "outputs": [
    {
     "data": {
      "text/plain": [
       "[('a', 9), ('b', 7), ('c', 10)]"
      ]
     },
     "execution_count": 181,
     "metadata": {},
     "output_type": "execute_result"
    }
   ],
   "source": [
    "rdd2.collect()"
   ]
  },
  {
   "cell_type": "markdown",
   "id": "98ec3168",
   "metadata": {},
   "source": [
    "### Perform Join operation on the RDDs (rdd1,rdd2)"
   ]
  },
  {
   "cell_type": "code",
   "execution_count": 182,
   "id": "5fc98e9f",
   "metadata": {},
   "outputs": [],
   "source": [
    "rdd12=rdd1.join(rdd2)"
   ]
  },
  {
   "cell_type": "code",
   "execution_count": 183,
   "id": "93ef36fd-d39e-402e-8674-bc1e3873a68e",
   "metadata": {},
   "outputs": [
    {
     "name": "stderr",
     "output_type": "stream",
     "text": [
      "                                                                                \r"
     ]
    },
    {
     "data": {
      "text/plain": [
       "[('a', (2, 9)), ('b', (3, 7))]"
      ]
     },
     "execution_count": 183,
     "metadata": {},
     "output_type": "execute_result"
    }
   ],
   "source": [
    "rdd12.collect()"
   ]
  },
  {
   "cell_type": "code",
   "execution_count": null,
   "id": "11f82b11-15e5-4fc1-9639-c42156d5297c",
   "metadata": {},
   "outputs": [],
   "source": []
  }
 ],
 "metadata": {
  "kernelspec": {
   "display_name": "Python 3 (ipykernel)",
   "language": "python",
   "name": "python3"
  },
  "language_info": {
   "codemirror_mode": {
    "name": "ipython",
    "version": 3
   },
   "file_extension": ".py",
   "mimetype": "text/x-python",
   "name": "python",
   "nbconvert_exporter": "python",
   "pygments_lexer": "ipython3",
   "version": "3.9.13"
  }
 },
 "nbformat": 4,
 "nbformat_minor": 5
}
